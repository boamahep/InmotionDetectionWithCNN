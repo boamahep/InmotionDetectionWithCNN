{
 "cells": [
  {
   "cell_type": "code",
   "execution_count": 2,
   "metadata": {},
   "outputs": [],
   "source": [
    "import numpy as np\n",
    "import cv2"
   ]
  },
  {
   "cell_type": "code",
   "execution_count": 3,
   "metadata": {},
   "outputs": [],
   "source": [
    "sdThresh = 10\n",
    "font = cv2.FONT_HERSHEY_SIMPLEX\n",
    "#TODO: Face Detection 1"
   ]
  },
  {
   "cell_type": "code",
   "execution_count": 4,
   "metadata": {},
   "outputs": [],
   "source": [
    "def distMap(frame1, frame2):\n",
    "    \"\"\"outputs pythagorean distance between two frames\"\"\"\n",
    "    frame1_32 = np.float32(frame1)\n",
    "    frame2_32 = np.float32(frame2)\n",
    "    diff32 = frame1_32 - frame2_32\n",
    "    norm32 = np.sqrt(diff32[:,:,0]**2 + diff32[:,:,1]**2 + diff32[:,:,2]**2)/np.sqrt(255**2 + 255**2 + 255**2)\n",
    "    dist = np.uint8(norm32*255)\n",
    "    return dist\n",
    " \n",
    "cv2.namedWindow('frame')\n",
    "cv2.namedWindow('dist')"
   ]
  },
  {
   "cell_type": "code",
   "execution_count": null,
   "metadata": {},
   "outputs": [],
   "source": [
    "#capture video stream from camera source. 0 refers to first camera,\n",
    "#1 referes to 2nd and so on.\n",
    "cap = cv2.VideoCapture(0)\n",
    " \n",
    "_, frame1 = cap.read()\n",
    "_, frame2 = cap.read()\n",
    " \n",
    "facecount = 0\n",
    "while(True):\n",
    "    _, frame3 = cap.read()\n",
    "    rows, cols, _ = np.shape(frame3)\n",
    "    cv2.imshow('dist', frame3)\n",
    "    dist = distMap(frame1, frame3)\n",
    " \n",
    "    frame1 = frame2\n",
    "    frame2 = frame3\n",
    " \n",
    "    # apply Gaussian smoothing\n",
    "    mod = cv2.GaussianBlur(dist, (9,9), 0)"
   ]
  },
  {
   "cell_type": "code",
   "execution_count": null,
   "metadata": {},
   "outputs": [],
   "source": [
    " # apply thresholding\n",
    "    _, thresh = cv2.threshold(mod, 100, 255, 0)\n",
    " \n",
    "    # calculate st dev test\n",
    "    _, stDev = cv2.meanStdDev(mod)\n",
    " \n",
    "    cv2.imshow('dist', mod)\n",
    "    cv2.putText(frame2, \"Standard Deviation - {}\".format(round(stDev[0][0],0)), (70, 70), font, 1, (255, 0, 255), 1, cv2.LINE_AA)\n",
    "    if stDev > sdThresh:\n",
    "            print(\"Motion detected.. Do something!!!\");\n",
    "            #TODO: Face Detection 2\n",
    " \n",
    "    cv2.imshow('frame', frame2)\n",
    "    if cv2.waitKey(1) & 0xFF == 27:\n",
    "        break\n",
    " \n",
    "cap.release()\n",
    "cv2.destroyAllWindows()"
   ]
  },
  {
   "cell_type": "code",
   "execution_count": null,
   "metadata": {},
   "outputs": [],
   "source": []
  }
 ],
 "metadata": {
  "kernelspec": {
   "display_name": "Python 3",
   "language": "python",
   "name": "python3"
  },
  "language_info": {
   "codemirror_mode": {
    "name": "ipython",
    "version": 3
   },
   "file_extension": ".py",
   "mimetype": "text/x-python",
   "name": "python",
   "nbconvert_exporter": "python",
   "pygments_lexer": "ipython3",
   "version": "3.7.3"
  }
 },
 "nbformat": 4,
 "nbformat_minor": 2
}
